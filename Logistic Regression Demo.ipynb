{
 "cells": [
  {
   "cell_type": "markdown",
   "metadata": {},
   "source": [
    "# Machine Learning Exercise - Binary, Regularized, and Multiclass Logistic Regression"
   ]
  },
  {
   "cell_type": "markdown",
   "metadata": {},
   "source": [
    "Hey there, hi there, ho there, dear reader! Today, Andrew Ng's machine learning class (https://www.coursera.org/learn/machine-learning) has tasked us with implementing logistic regression in a number of different scenarios. Please note that in this notebook I have grouped exercise 2 and 3 from the the class together, ignoring the neural network exercise at the end of exercise 3 and implenting that separately in another repo.\n",
    "\n",
    "So what is logistic regression (LR)? LR is a classification algorithm where we set up our classes, the y-variable, to be either 0 or 1 and then attempt to use the independent variable(s), X, to classify y. The name logistic regression comes from the use of the sigmoid or logistic function, which we will talk about in a bit. In this notebook, I try to explain the logic, the math, and the code in detail, so I hope you find it helpful.\n",
    "\n",
    "Recommended python tutorial for machine learning: http://cs231n.github.io/python-numpy-tutorial/#numpy-arrays.\n",
    "\n",
    "Please note that I pulled inspiration from a number of different sources, namely:\n",
    "https://github.com/JWarmenhoven\n",
    "https://github.com/kaleko\n",
    "http://www.johnwittenauer.net/machine-learning-exercises-in-python-part-1/\n",
    "\n",
    "They're all great data scientists, so check them out!"
   ]
  },
  {
   "cell_type": "markdown",
   "metadata": {},
   "source": [
    "The prompt for the first part of the exercise is:\n",
    "Suppose that you are the administrator of a university department and\n",
    "you want to determine each applicant's chance of admission based on their\n",
    "results on two exams. You have historical data from previous applicants\n",
    "that you can use as a training set for logistic regression. For each training\n",
    "example, you have the applicant's scores on two exams and the admissions\n",
    "decision.\n",
    "Your task is to build a classication model that estimates an applicant's\n",
    "probability of admission based the scores from those two exams.\n",
    "\n",
    "I dunno why we have to write the code ourselves if we're already an administrator, but anyway.... first thing to do is load up from the data!\n",
    "\n",
    "Let's start by importing some libraries and examining the data. Numpy will be used for math and data manipulation stuff and we will call it 'np'. So, when we want to use numpy, we'll just say 'np'. Pandas will be used for data manipulation and preprocessing (pre-machine learning data wrangling) and we will call it 'pd'. matplotlib has a function called 'pyplot' which we will use for the plotting of figures and we will call it 'plt'. The reason we use only part of matplotlib is because we don't need the whole library. Importing the whole library is bad coding practice because it loads too much into memory, creates dependencies we may be unaware of, and gives us access to functions we may not need/want/be aware of."
   ]
  },
  {
   "cell_type": "code",
   "execution_count": 1,
   "metadata": {},
   "outputs": [],
   "source": [
    "#This code assumes the datafiles are in the same directory as the code file\n",
    "import numpy as np\n",
    "import pandas as pd\n",
    "import matplotlib.pyplot as plt\n",
    "%matplotlib inline"
   ]
  },
  {
   "cell_type": "markdown",
   "metadata": {},
   "source": [
    "Now, we're gonna be dealing with a number of datasets in this exercise, but they all follow a similar pattern. Namely, we need to load in the data and create our X matrix and our y vector. Additionally, since we will do this multiple times, that's a clue to write up a function so you don't have to keep writing the same code over and over again. The below code does just that! We pass it the file name and the symbol that separates the different variable-types in the file, and the function gives us back the data, our X matrix, and our y vector."
   ]
  },
  {
   "cell_type": "code",
   "execution_count": 2,
   "metadata": {},
   "outputs": [],
   "source": [
    "def getData(file, symbol):\n",
    "    data = np.loadtxt(file, delimiter = symbol, usecols=(0, 1, 2), unpack = True)\n",
    "    X = np.transpose(np.array(data[:-1]))\n",
    "    y = np.transpose(np.array(data[-1:]))\n",
    "    #We insert a column of ones for the bias or intercept term\n",
    "    X = np.insert(X, 0, 1, axis = 1)\n",
    "    \n",
    "    return data, X, y    "
   ]
  },
  {
   "cell_type": "code",
   "execution_count": 3,
   "metadata": {},
   "outputs": [
    {
     "data": {
      "text/plain": [
       "((3, 100), (100, 3), (100, 1))"
      ]
     },
     "execution_count": 3,
     "metadata": {},
     "output_type": "execute_result"
    }
   ],
   "source": [
    "data, X, y = getData('ex2data1.txt',',')\n",
    "data.shape, X.shape, y.shape"
   ]
  },
  {
   "cell_type": "code",
   "execution_count": 4,
   "metadata": {},
   "outputs": [
    {
     "data": {
      "text/plain": [
       "array([[ 1.        , 34.62365962, 78.02469282],\n",
       "       [ 1.        , 30.28671077, 43.89499752],\n",
       "       [ 1.        , 35.84740877, 72.90219803],\n",
       "       [ 1.        , 60.18259939, 86.3085521 ],\n",
       "       [ 1.        , 79.03273605, 75.34437644],\n",
       "       [ 1.        , 45.08327748, 56.31637178],\n",
       "       [ 1.        , 61.10666454, 96.51142588],\n",
       "       [ 1.        , 75.02474557, 46.55401354],\n",
       "       [ 1.        , 76.0987867 , 87.42056972],\n",
       "       [ 1.        , 84.43281996, 43.53339331],\n",
       "       [ 1.        , 95.86155507, 38.22527806],\n",
       "       [ 1.        , 75.01365839, 30.60326323],\n",
       "       [ 1.        , 82.30705337, 76.4819633 ],\n",
       "       [ 1.        , 69.36458876, 97.71869196],\n",
       "       [ 1.        , 39.53833914, 76.03681085],\n",
       "       [ 1.        , 53.97105215, 89.20735014],\n",
       "       [ 1.        , 69.07014406, 52.74046973],\n",
       "       [ 1.        , 67.94685548, 46.67857411],\n",
       "       [ 1.        , 70.66150955, 92.92713789],\n",
       "       [ 1.        , 76.97878373, 47.57596365],\n",
       "       [ 1.        , 67.37202755, 42.83843832],\n",
       "       [ 1.        , 89.67677575, 65.79936593],\n",
       "       [ 1.        , 50.53478829, 48.85581153],\n",
       "       [ 1.        , 34.21206098, 44.2095286 ],\n",
       "       [ 1.        , 77.92409145, 68.97235999],\n",
       "       [ 1.        , 62.27101367, 69.95445795],\n",
       "       [ 1.        , 80.19018075, 44.82162893],\n",
       "       [ 1.        , 93.1143888 , 38.80067034],\n",
       "       [ 1.        , 61.83020602, 50.25610789],\n",
       "       [ 1.        , 38.7858038 , 64.99568096],\n",
       "       [ 1.        , 61.37928945, 72.80788731],\n",
       "       [ 1.        , 85.40451939, 57.05198398],\n",
       "       [ 1.        , 52.10797973, 63.12762377],\n",
       "       [ 1.        , 52.04540477, 69.43286012],\n",
       "       [ 1.        , 40.23689374, 71.16774802],\n",
       "       [ 1.        , 54.63510555, 52.21388588],\n",
       "       [ 1.        , 33.91550011, 98.86943574],\n",
       "       [ 1.        , 64.17698887, 80.90806059],\n",
       "       [ 1.        , 74.78925296, 41.57341523],\n",
       "       [ 1.        , 34.18364003, 75.23772034],\n",
       "       [ 1.        , 83.90239366, 56.30804622],\n",
       "       [ 1.        , 51.54772027, 46.85629026],\n",
       "       [ 1.        , 94.44336777, 65.56892161],\n",
       "       [ 1.        , 82.36875376, 40.61825516],\n",
       "       [ 1.        , 51.04775177, 45.82270146],\n",
       "       [ 1.        , 62.22267576, 52.06099195],\n",
       "       [ 1.        , 77.19303493, 70.4582    ],\n",
       "       [ 1.        , 97.77159928, 86.72782233],\n",
       "       [ 1.        , 62.0730638 , 96.76882412],\n",
       "       [ 1.        , 91.5649745 , 88.69629255],\n",
       "       [ 1.        , 79.94481794, 74.16311935],\n",
       "       [ 1.        , 99.27252693, 60.999031  ],\n",
       "       [ 1.        , 90.54671411, 43.39060181],\n",
       "       [ 1.        , 34.52451385, 60.39634246],\n",
       "       [ 1.        , 50.28649612, 49.80453881],\n",
       "       [ 1.        , 49.58667722, 59.80895099],\n",
       "       [ 1.        , 97.64563396, 68.86157272],\n",
       "       [ 1.        , 32.57720017, 95.59854761],\n",
       "       [ 1.        , 74.24869137, 69.82457123],\n",
       "       [ 1.        , 71.79646206, 78.45356225],\n",
       "       [ 1.        , 75.39561147, 85.75993667],\n",
       "       [ 1.        , 35.28611282, 47.02051395],\n",
       "       [ 1.        , 56.2538175 , 39.26147251],\n",
       "       [ 1.        , 30.05882245, 49.59297387],\n",
       "       [ 1.        , 44.66826172, 66.45008615],\n",
       "       [ 1.        , 66.56089447, 41.09209808],\n",
       "       [ 1.        , 40.45755098, 97.53518549],\n",
       "       [ 1.        , 49.07256322, 51.88321182],\n",
       "       [ 1.        , 80.27957401, 92.11606081],\n",
       "       [ 1.        , 66.74671857, 60.99139403],\n",
       "       [ 1.        , 32.72283304, 43.30717306],\n",
       "       [ 1.        , 64.03932042, 78.03168802],\n",
       "       [ 1.        , 72.34649423, 96.22759297],\n",
       "       [ 1.        , 60.45788574, 73.0949981 ],\n",
       "       [ 1.        , 58.84095622, 75.85844831],\n",
       "       [ 1.        , 99.8278578 , 72.36925193],\n",
       "       [ 1.        , 47.26426911, 88.475865  ],\n",
       "       [ 1.        , 50.4581598 , 75.80985953],\n",
       "       [ 1.        , 60.45555629, 42.50840944],\n",
       "       [ 1.        , 82.22666158, 42.71987854],\n",
       "       [ 1.        , 88.91389642, 69.8037889 ],\n",
       "       [ 1.        , 94.83450672, 45.6943068 ],\n",
       "       [ 1.        , 67.31925747, 66.58935318],\n",
       "       [ 1.        , 57.23870632, 59.51428198],\n",
       "       [ 1.        , 80.366756  , 90.9601479 ],\n",
       "       [ 1.        , 68.46852179, 85.5943071 ],\n",
       "       [ 1.        , 42.07545454, 78.844786  ],\n",
       "       [ 1.        , 75.47770201, 90.424539  ],\n",
       "       [ 1.        , 78.63542435, 96.64742717],\n",
       "       [ 1.        , 52.34800399, 60.76950526],\n",
       "       [ 1.        , 94.09433113, 77.15910509],\n",
       "       [ 1.        , 90.44855097, 87.50879176],\n",
       "       [ 1.        , 55.48216114, 35.57070347],\n",
       "       [ 1.        , 74.49269242, 84.84513685],\n",
       "       [ 1.        , 89.84580671, 45.35828361],\n",
       "       [ 1.        , 83.48916274, 48.3802858 ],\n",
       "       [ 1.        , 42.26170081, 87.10385094],\n",
       "       [ 1.        , 99.31500881, 68.77540947],\n",
       "       [ 1.        , 55.34001756, 64.93193801],\n",
       "       [ 1.        , 74.775893  , 89.5298129 ]])"
      ]
     },
     "execution_count": 4,
     "metadata": {},
     "output_type": "execute_result"
    }
   ],
   "source": [
    "X"
   ]
  },
  {
   "cell_type": "code",
   "execution_count": 5,
   "metadata": {},
   "outputs": [
    {
     "data": {
      "text/plain": [
       "array([[0.],\n",
       "       [0.],\n",
       "       [0.],\n",
       "       [1.],\n",
       "       [1.],\n",
       "       [0.],\n",
       "       [1.],\n",
       "       [1.],\n",
       "       [1.],\n",
       "       [1.],\n",
       "       [0.],\n",
       "       [0.],\n",
       "       [1.],\n",
       "       [1.],\n",
       "       [0.],\n",
       "       [1.],\n",
       "       [1.],\n",
       "       [0.],\n",
       "       [1.],\n",
       "       [1.],\n",
       "       [0.],\n",
       "       [1.],\n",
       "       [0.],\n",
       "       [0.],\n",
       "       [1.],\n",
       "       [1.],\n",
       "       [1.],\n",
       "       [0.],\n",
       "       [0.],\n",
       "       [0.],\n",
       "       [1.],\n",
       "       [1.],\n",
       "       [0.],\n",
       "       [1.],\n",
       "       [0.],\n",
       "       [0.],\n",
       "       [0.],\n",
       "       [1.],\n",
       "       [0.],\n",
       "       [0.],\n",
       "       [1.],\n",
       "       [0.],\n",
       "       [1.],\n",
       "       [0.],\n",
       "       [0.],\n",
       "       [0.],\n",
       "       [1.],\n",
       "       [1.],\n",
       "       [1.],\n",
       "       [1.],\n",
       "       [1.],\n",
       "       [1.],\n",
       "       [1.],\n",
       "       [0.],\n",
       "       [0.],\n",
       "       [0.],\n",
       "       [1.],\n",
       "       [0.],\n",
       "       [1.],\n",
       "       [1.],\n",
       "       [1.],\n",
       "       [0.],\n",
       "       [0.],\n",
       "       [0.],\n",
       "       [0.],\n",
       "       [0.],\n",
       "       [1.],\n",
       "       [0.],\n",
       "       [1.],\n",
       "       [1.],\n",
       "       [0.],\n",
       "       [1.],\n",
       "       [1.],\n",
       "       [1.],\n",
       "       [1.],\n",
       "       [1.],\n",
       "       [1.],\n",
       "       [1.],\n",
       "       [0.],\n",
       "       [0.],\n",
       "       [1.],\n",
       "       [1.],\n",
       "       [1.],\n",
       "       [1.],\n",
       "       [1.],\n",
       "       [1.],\n",
       "       [0.],\n",
       "       [1.],\n",
       "       [1.],\n",
       "       [0.],\n",
       "       [1.],\n",
       "       [1.],\n",
       "       [0.],\n",
       "       [1.],\n",
       "       [1.],\n",
       "       [1.],\n",
       "       [1.],\n",
       "       [1.],\n",
       "       [1.],\n",
       "       [1.]])"
      ]
     },
     "execution_count": 5,
     "metadata": {},
     "output_type": "execute_result"
    }
   ],
   "source": [
    "y"
   ]
  },
  {
   "cell_type": "markdown",
   "metadata": {},
   "source": [
    "Not terribly meaningful is it? Let's set up a function to graph stuff for us. We know that we'll treat y = 1 as a positive sample and then treat y = 0 as a negative example. When we graph those data points, we'll denote positives with a + sign and negatives with an o symbol. Then we can just give the associated label for when y = 1 or y = 0. In this specific case, the students are admitted when y = 1 and not admitted when y = 0. Then we'll just throw up their Exam 1 and 2 scores on the y and x axis of our graph; those scores are what compose our X matrix, ignoring the column of ones for the intercept/bias term."
   ]
  },
  {
   "cell_type": "code",
   "execution_count": 6,
   "metadata": {},
   "outputs": [
    {
     "data": {
      "image/png": "[encoded data removed]",
      "text/plain": [
       "<Figure size 720x432 with 1 Axes>"
      ]
     },
     "metadata": {
      "needs_background": "light"
     },
     "output_type": "display_data"
    }
   ],
   "source": [
    "def plotData(X, y, x_lab, y_lab, pos_lab, neg_lab):\n",
    "    pos = np.array([X[i] for i in np.arange(X.shape[0]) if y[i] == 1])\n",
    "    neg = np.array([X[i] for i in np.arange(X.shape[0]) if y[i] == 0])\n",
    "    plt.figure(figsize=(10,6))\n",
    "    plt.plot(pos[:, 1], pos[:, 2], '+', label = pos_lab)\n",
    "    plt.plot(neg[:, 1], neg[:, 2], 'o', label = neg_lab)\n",
    "    plt.xlabel(x_lab)\n",
    "    plt.ylabel(y_lab)\n",
    "    plt.legend()\n",
    "    plt.grid(True)\n",
    "   \n",
    "    \n",
    "plotData(X, y, 'Exam 1 Score', 'Exam 2 Score', 'Admitted', 'Not Admitted')"
   ]
  },
  {
   "cell_type": "markdown",
   "metadata": {},
   "source": [
    "That's better! Looks like a pretty linear pattern in the data.\n",
    "\n",
    "Now it's time for some math. In logistic regression, we use h to denote our hypothesis, which the mathematical definition of how our model makes a guess. Below, n denotes the number of features in our model. Features are basically the number of columns in our X matrix, including the bias column of ones. The number of elements in our parameter vector theta also corresponds to the number of features in our model. Because X is a matrix and theta is a vector, theta transpose X is then simply their dot product."
   ]
  },
  {
   "cell_type": "markdown",
   "metadata": {},
   "source": [
    "#### Logistic Regression Hypothesis\n",
    "#### $$ h_{\\theta}(x) = g(\\theta^{T}x)$$\n",
    "#### where $$ g(z)=\\frac{1}{1+e^{−z}} $$\n",
    "#### and $$ z = \\theta^Tx = \\theta_0 x_0 + \\theta_1 x_1 + \\theta_2 x_2 + ... +   \\theta_n x_n $$"
   ]
  },
  {
   "cell_type": "code",
   "execution_count": 7,
   "metadata": {},
   "outputs": [],
   "source": [
    "def sigmoid(z):\n",
    "    return 1 / (1 + np.exp(-z))"
   ]
  },
  {
   "cell_type": "markdown",
   "metadata": {},
   "source": [
    "Not too bad, right?\n",
    "\n",
    "g(z) is called the sigmoid or logistic function-- the heart of logistic regression. The sigmoid function smashes all of our values between 0 and 1, converting them into probabilities. If h output 0.7, for example, we would say that there is 70% chance of y = 1 as predicted by our model. In the current example, that means there is a 70% of a student being admitted to the university.\n",
    "\n",
    "Let's draw a simple graph to see if it will give us that beautiful 'S' line!"
   ]
  },
  {
   "cell_type": "code",
   "execution_count": 8,
   "metadata": {},
   "outputs": [
    {
     "data": {
      "text/plain": [
       "Text(0.5, 1.0, 'Sigmoid S')"
      ]
     },
     "execution_count": 8,
     "metadata": {},
     "output_type": "execute_result"
    },
    {
     "data": {
      "image/png": "[encoded data removed]",
      "text/plain": [
       "<Figure size 864x360 with 1 Axes>"
      ]
     },
     "metadata": {
      "needs_background": "light"
     },
     "output_type": "display_data"
    }
   ],
   "source": [
    "digits = np.arange(-15, 15, step=1)\n",
    "fig, ax = plt.subplots(1, figsize=(12,5))\n",
    "ax.plot(digits, sigmoid(digits), 'b')\n",
    "plt.xlabel('z',fontsize=16)\n",
    "plt.ylabel('g(z)',fontsize=16)\n",
    "plt.title('Sigmoid S',fontsize=16)"
   ]
  },
  {
   "cell_type": "markdown",
   "metadata": {},
   "source": [
    "If you don't trust my skillz, we can also use Scipy's built-in sigmoid function."
   ]
  },
  {
   "cell_type": "code",
   "execution_count": 9,
   "metadata": {},
   "outputs": [
    {
     "data": {
      "text/plain": [
       "Text(0.5, 1.0, \"Scipy's Sigmoid\")"
      ]
     },
     "execution_count": 9,
     "metadata": {},
     "output_type": "execute_result"
    },
    {
     "data": {
      "image/png": "[encoded data removed]",
      "text/plain": [
       "<Figure size 864x360 with 1 Axes>"
      ]
     },
     "metadata": {
      "needs_background": "light"
     },
     "output_type": "display_data"
    }
   ],
   "source": [
    "from scipy.special import expit\n",
    "fig, ax = plt.subplots(1, figsize=(12,5))\n",
    "ax.plot(digits, expit(digits), 'r')\n",
    "plt.xlabel('z', fontsize=16)\n",
    "plt.ylabel('g(z)', fontsize=16)\n",
    "plt.title(\"Scipy's Sigmoid\", fontsize=16)"
   ]
  },
  {
   "cell_type": "markdown",
   "metadata": {},
   "source": [
    "Dat 'S' line! Notice how our function asymptotes at 0 and 1? Probabilities!\n",
    "\n",
    "Now it's time to code up our cost function. In logistic regression we define the cost function, denoted by J of theta, as:"
   ]
  },
  {
   "cell_type": "markdown",
   "metadata": {},
   "source": [
    "#### Cost Function\n",
    "#### $$ J(\\theta) = \\frac{1}{m}\\sum_{i=1}^{m}\\big[-y^{(i)}\\, log\\,( h_\\theta\\,(x^{(i)}))-(1-y^{(i)})\\,log\\,(1-h_\\theta(x^{(i)}))\\big]$$\n",
    "#### Vectorized Cost Function\n",
    "#### $$ J(\\theta) = \\frac{1}{m}\\big((\\,log\\,(g(X\\theta))^Ty+(\\,log\\,(1-g(X\\theta))^T(1-y)\\big)$$"
   ]
  },
  {
   "cell_type": "markdown",
   "metadata": {},
   "source": [
    "In the above equations, m is given by the number of samples we have in our data. Theta is our parameter vector, X is our X matrix, or $x^{(i)}$ is a given x, while y is our y vector, or $y^{(i)}$ is just some given y.\n",
    "\n",
    "In machine learning, it's important to vectorize your code as much as possible. What does that mean? It means using linear algebra instead of explicit for-loops when doing computations. Why? Because linear algebra libraries are optimized, so the code runs faster and the code is easier to read.\n",
    "\n",
    "The cost, loss, or error function of any machine learning model tries to measure the difference between our model's guess and the correct answer. That is, the output of h vs. y. The reason we use this specific cost function for logistic regression is because it is convex. Let's plot the cost function so you can see what I mean!"
   ]
  },
  {
   "cell_type": "code",
   "execution_count": 10,
   "metadata": {},
   "outputs": [
    {
     "name": "stderr",
     "output_type": "stream",
     "text": [
      "C:\\Users\\Theochem\\Anaconda3\\lib\\site-packages\\ipykernel_launcher.py:4: RuntimeWarning: divide by zero encountered in log\n",
      "  after removing the cwd from sys.path.\n"
     ]
    },
    {
     "data": {
      "text/plain": [
       "<matplotlib.legend.Legend at 0x2627c398eb8>"
      ]
     },
     "execution_count": 10,
     "metadata": {},
     "output_type": "execute_result"
    },
    {
     "data": {
      "image/png": "[encoded data removed]",
      "text/plain": [
       "<Figure size 864x576 with 1 Axes>"
      ]
     },
     "metadata": {
      "needs_background": "light"
     },
     "output_type": "display_data"
    }
   ],
   "source": [
    "digits2 = np.arange(0, 1, step=0.001)\n",
    "yy = -1 * np.log(1 - digits2)\n",
    "fig, ax = plt.subplots(1, figsize=(12,8))\n",
    "ax.plot(digits2, (-1 * np.log(digits2)), 'r', label= '-log(x)' )\n",
    "ax.plot(digits2, yy,'b', label = '-log(1 - x)')\n",
    "plt.xlabel('x',fontsize=16)\n",
    "plt.ylabel('-log(x) and -log(1-x)',fontsize=16)\n",
    "plt.title(\"Logisitic Regression Cost Function\", fontsize=16)\n",
    "plt.legend()"
   ]
  },
  {
   "cell_type": "markdown",
   "metadata": {},
   "source": [
    "As you can, see there are no local minimum in the above cost function and only one global minimum. This is good because it means it's easier to find the lowest values our cost function can take on, which is when our guess is the best it can be. Additionally, see how it asymptotes at 0 and 1? This captures the intuition that if the correct answer is 1, and our hypothesis guesses 1, then we'll pay a low cost. However, if our hypothesis guesses 0 and the correct answer is 1, we'll pay a huge cost. The reverse is also true.\n",
    "\n",
    "Let's code up the above equations! We'll make a function that takes theta, X, and y, uses the above equations to do some math, and then returns J, the cost for our current guess (some number). We'll get the value m from accessing the size of y, which is just the number of data samples we have.\n",
    "\n",
    "NOTE: It's important to pass the function theta first because it will crash the code later when using Scipy's advanced optimization. I wasted an hour hunting down this stupid, stupid bug."
   ]
  },
  {
   "cell_type": "code",
   "execution_count": 11,
   "metadata": {},
   "outputs": [],
   "source": [
    "def computeCost(theta, X, y):\n",
    "    m = y.size\n",
    "    h = sigmoid(X.dot(theta))\n",
    "    \n",
    "    J = -1 * (1 / m) * (np.log(h).T.dot(y)  + np.log(1 - h).T.dot(1 - y))\n",
    "    \n",
    "    return J"
   ]
  },
  {
   "cell_type": "markdown",
   "metadata": {},
   "source": [
    "Cool~ Now what do we do with J? Well, we need to minimize it. How do we do that? We change the values of our parameter vector theta ($\\theta$). How do we do that? Glad you asked! We use the partial derivatives of $J(\\theta)$ with respect to $\\theta_j$, that is, just some theta. Defined as: "
   ]
  },
  {
   "cell_type": "markdown",
   "metadata": {},
   "source": [
    "#### Partial Derivative of J\n",
    "\n",
    "#### $$ \\frac{\\partial J(\\theta)}{\\partial\\theta_{j}} = \\frac{1}{m}\\sum_{i=1}^{m} ( h_\\theta (x^{(i)})-y^{(i)})x^{(i)}_{j} $$ \n",
    "#### Vectorized Partial Derivative\n",
    "#### $$ \\frac{\\partial J(\\theta)}{\\partial\\theta_{j}} = \\frac{1}{m} X^T(g(X\\theta)-y)$$"
   ]
  },
  {
   "cell_type": "markdown",
   "metadata": {},
   "source": [
    "In the above equations, the weird upside-down e thing partial derivative of our cost function J with respect to $\\theta_j$, that is, just some given theta. If you don't trust me, you can find an indepth derivation of how I arrived at this definition of the partial derivative in this repo. h is our hypothesis which is defined above.\n",
    "\n",
    "If you're unfamiliar with calculus, a derivative, also called a gradient when not one dimensional, is the slope of a nonlinear function which our cost function happens to be. By harnessing the partial derivatives of J we can guide our cost function toward its global minimum by manipulating the values of theta. Gradient descent is an algorithm that just repeatedly takes the partial derivatives over and over again until it reaches the minimum or close enough to the minimum that we don't care to minimize J anymore.\n",
    "\n",
    "We'll code this bad boy up, similar to how we coded up J, only this time we return a gradient object.\n",
    "\n",
    "NOTE: It's important to pass the function theta first because it will crash the code later when using Scipy's advanced optimization. I wasted an hour hunting down this stupid, stupid bug."
   ]
  },
  {
   "cell_type": "code",
   "execution_count": 12,
   "metadata": {},
   "outputs": [],
   "source": [
    "def grad(theta, X, y):\n",
    "    m = y.size\n",
    "    h = sigmoid(X.dot(theta.reshape(-1, 1)))\n",
    "    \n",
    "    gradient = (1 / m) * X.T.dot(h - y)\n",
    "\n",
    "    return gradient.flatten()"
   ]
  },
  {
   "cell_type": "markdown",
   "metadata": {},
   "source": [
    "Let's take these functions for a spin, shall we? We need to initialize theta as a column vector full of zeros with its dimensionality given by the number of columns in X. This is common practice in logistic regression. \n",
    "\n",
    "Pretty easy with numpy~"
   ]
  },
  {
   "cell_type": "code",
   "execution_count": 13,
   "metadata": {},
   "outputs": [],
   "source": [
    "zero_theta = np.zeros(X.shape[1])"
   ]
  },
  {
   "cell_type": "markdown",
   "metadata": {},
   "source": [
    "Dear reader, for your information, .shape[0] would access our rows because Python indexes from 0."
   ]
  },
  {
   "cell_type": "code",
   "execution_count": 14,
   "metadata": {},
   "outputs": [
    {
     "data": {
      "text/plain": [
       "0.6931471805599452"
      ]
     },
     "execution_count": 14,
     "metadata": {},
     "output_type": "execute_result"
    }
   ],
   "source": [
    "computeCost(zero_theta, X, y)[0]"
   ]
  },
  {
   "cell_type": "markdown",
   "metadata": {},
   "source": [
    "The cost is too damn high! That means our guess of theta being a bunch of zeros is a bad guess indeed. We need to change the values of theta in order to improve this guess. One way to do that would be use gradient descent. Another way, which is the way Andrew Ng demands we do it in the current exercise, is to use an advanced optimization algorithm instead. These algorithms basically do the same thing as gradient descent, only they do it much faster. We just need to give Scipy's minimize function our cost function, our current guess (zero_theta), the arguments our cost function takes, and then our gradient function. Then, Scipy will do the rest! TNC is an arbitrary choice, but I find it works the best among the optimization algorithms available with Scipy. For more info, please see: https://docs.scipy.org/doc/scipy/reference/generated/scipy.optimize.minimize.html\n",
    "\n",
    "NOTE: It's important to pass the function theta first because it will crash the code later when using Scipy's advanced optimization. I wasted an hour hunting down this stupid, stupid bug."
   ]
  },
  {
   "cell_type": "code",
   "execution_count": 15,
   "metadata": {},
   "outputs": [
    {
     "data": {
      "text/plain": [
       "array([ -0.1       , -12.00921659, -11.26284221])"
      ]
     },
     "execution_count": 15,
     "metadata": {},
     "output_type": "execute_result"
    }
   ],
   "source": [
    "grad(zero_theta, X, y)"
   ]
  },
  {
   "cell_type": "code",
   "execution_count": 16,
   "metadata": {},
   "outputs": [
    {
     "data": {
      "text/plain": [
       "     fun: array([0.2034977])\n",
       "     jac: array([9.22909509e-09, 1.05007760e-07, 4.90380175e-07])\n",
       " message: 'Local minimum reached (|pg| ~= 0)'\n",
       "    nfev: 36\n",
       "     nit: 17\n",
       "  status: 0\n",
       " success: True\n",
       "       x: array([-25.1613187 ,   0.20623159,   0.20147149])"
      ]
     },
     "execution_count": 16,
     "metadata": {},
     "output_type": "execute_result"
    }
   ],
   "source": [
    "from scipy.optimize import minimize\n",
    "res = minimize(fun = computeCost, x0 = zero_theta, args=(X, y), method='TNC', jac = grad)\n",
    "res"
   ]
  },
  {
   "cell_type": "markdown",
   "metadata": {},
   "source": [
    "Hell yeah! As you can see, x output by the function is our solution vector, that is, the minimized values of theta. We can now use this new vector to compute some guesses and see how good our model is at classifying students as admitted vs. not admitted based on their exam scores.\n",
    "\n",
    "Andrew Ng demands that we predict the likelihood of a student being admitted to the university when they scored 45 on Exam 1 and 85 on Exam 2. We can use res.x to access our solution vector and compute our hypothesis as normal. "
   ]
  },
  {
   "cell_type": "code",
   "execution_count": 17,
   "metadata": {},
   "outputs": [
    {
     "name": "stdout",
     "output_type": "stream",
     "text": [
      "77.62906214285728 %\n"
     ]
    }
   ],
   "source": [
    "# one is for the bias or intercept term\n",
    "print(sigmoid(np.dot(np.array([1, 45, 85]),(res.x.T))) * 100, \"%\")"
   ]
  },
  {
   "cell_type": "markdown",
   "metadata": {},
   "source": [
    "Good luck anonymous student... not sure I like your odds.\n",
    "\n",
    "Now we need to make a function that will make predictions for all of our X data. We will pass the function our new theta vector, res.x,  and our X matrix. We will then calculate our hypothesis as always, but we'll threshold the output at 0.5. What that means is that if our hypothesis outputs values greater than or equal to 0.5, we will say y = 1. The function will then return its predictions based on our optimized theta and X."
   ]
  },
  {
   "cell_type": "code",
   "execution_count": 17,
   "metadata": {},
   "outputs": [],
   "source": [
    "def prediction(theta, X):\n",
    "    prob = sigmoid(np.dot(X, theta.T)) >= 0.50\n",
    "    prob = prob.astype('int')\n",
    "    \n",
    "    return prob"
   ]
  },
  {
   "cell_type": "markdown",
   "metadata": {},
   "source": [
    "So now we can calculate our accuracy. What we can do is group our predictions together with our y vector, that is true value value we're trying to predict. Every time they are the same, we will add one and if they're not, we add zero. Then we can sum up all our ones (and zeros) and divide them the number of times we guessed. This is a commonly used metric in machine learning called accuracy. It's really just a fraction of the number of correct guesses divided by the total number of guesses."
   ]
  },
  {
   "cell_type": "code",
   "execution_count": 18,
   "metadata": {},
   "outputs": [
    {
     "name": "stdout",
     "output_type": "stream",
     "text": [
      "accuracy = 89.0%\n"
     ]
    }
   ],
   "source": [
    "correct = [1 if a == b else 0 for (a, b) in zip(prediction(res.x, X), y)]\n",
    "accuracy = sum(map(int, correct)) / len(correct)\n",
    "print('accuracy = {0}%'.format(accuracy * 100))"
   ]
  },
  {
   "cell_type": "markdown",
   "metadata": {},
   "source": [
    "Now we're talking! That's pretty good!\n",
    "\n",
    "It's time to draw the our decision boundary, which in this first exercise is just a line. The decision bounday is a place in the data were there is a clear separation between postive and negative samples.\n",
    "#### Decision boundary\n",
    "#### $$ h_\\theta(x) = 0  $$\n",
    "#### or $$ \\theta_0 + \\theta_1 x_1 + \\theta_2 x_2 = 0 $$\n",
    "#### therefore $$ x_2 = -\\frac{1} {\\theta_2} (\\theta_0 + \\theta_1 x_1) $$ \n",
    "\n",
    "y = mx + b, just reengineered with thetas!\n",
    "\n",
    "Let's first create an x interval over our data, code up the above equation, and plot our decision boundary!"
   ]
  },
  {
   "cell_type": "code",
   "execution_count": 19,
   "metadata": {},
   "outputs": [
    {
     "data": {
      "text/plain": [
       "Text(0.5, 1.0, 'Linear Decision Boundary for Exam 1 and 2')"
      ]
     },
     "execution_count": 19,
     "metadata": {},
     "output_type": "execute_result"
    },
    {
     "data": {
      "image/png": "[encoded data removed]",
      "text/plain": [
       "<Figure size 720x432 with 1 Axes>"
      ]
     },
     "metadata": {
      "needs_background": "light"
     },
     "output_type": "display_data"
    }
   ],
   "source": [
    "xs = np.linspace(np.min(X[:,1]), np.max(X[:,1]), 100)\n",
    "ys = (-1.0 / res.x[2]) * (res.x[0] + res.x[1] * xs)\n",
    "plotData(X, y, 'Exam 1 Score', 'Exam 2 Score', 'Admitted', 'Not Admitted')\n",
    "plt.plot(xs, ys, 'b', label = 'Linear Decision Boundary')\n",
    "plt.legend()\n",
    "plt.title('Linear Decision Boundary for Exam 1 and 2')"
   ]
  },
  {
   "cell_type": "markdown",
   "metadata": {},
   "source": [
    "Nice! Not a perfect separation, but pretty close and the best possible line we could draw, I'll wager.\n",
    "\n",
    "That's it for the first exercise, but we're far from done, dear reader. Andrew Ng in the second exercise states:\n",
    "In this part of the exercise, you will implement regularized logistic regression\n",
    "to predict whether microchips from a fabrication plant passes quality assurance (QA). During QA, each microchip goes through various tests to ensure\n",
    "it is functioning correctly.\n",
    "Suppose you are the product manager of the factory and you have the\n",
    "test results for some microchips on two different tests. From these two tests,\n",
    "you would like to determine whether the microchips should be accepted or\n",
    "rejected. To help you make the decision, you have a dataset of test results\n",
    "on past microchips, from which you can build a logistic regression model.\n",
    "\n",
    "Okay then, fellow project managers! Let's load up the data using our function and see how much trouble we're in."
   ]
  },
  {
   "cell_type": "code",
   "execution_count": 20,
   "metadata": {},
   "outputs": [
    {
     "data": {
      "text/plain": [
       "((3, 118), (118, 3), (118, 1))"
      ]
     },
     "execution_count": 20,
     "metadata": {},
     "output_type": "execute_result"
    }
   ],
   "source": [
    "#this code assumes the datafile is in the same directory as the code file.\n",
    "data2, X2, y2 = getData('ex2data2.txt', ',')\n",
    "data2.shape, X2.shape, y2.shape"
   ]
  },
  {
   "cell_type": "code",
   "execution_count": 21,
   "metadata": {},
   "outputs": [
    {
     "data": {
      "text/plain": [
       "array([[ 1.       ,  0.051267 ,  0.69956  ],\n",
       "       [ 1.       , -0.092742 ,  0.68494  ],\n",
       "       [ 1.       , -0.21371  ,  0.69225  ],\n",
       "       [ 1.       , -0.375    ,  0.50219  ],\n",
       "       [ 1.       , -0.51325  ,  0.46564  ],\n",
       "       [ 1.       , -0.52477  ,  0.2098   ],\n",
       "       [ 1.       , -0.39804  ,  0.034357 ],\n",
       "       [ 1.       , -0.30588  , -0.19225  ],\n",
       "       [ 1.       ,  0.016705 , -0.40424  ],\n",
       "       [ 1.       ,  0.13191  , -0.51389  ],\n",
       "       [ 1.       ,  0.38537  , -0.56506  ],\n",
       "       [ 1.       ,  0.52938  , -0.5212   ],\n",
       "       [ 1.       ,  0.63882  , -0.24342  ],\n",
       "       [ 1.       ,  0.73675  , -0.18494  ],\n",
       "       [ 1.       ,  0.54666  ,  0.48757  ],\n",
       "       [ 1.       ,  0.322    ,  0.5826   ],\n",
       "       [ 1.       ,  0.16647  ,  0.53874  ],\n",
       "       [ 1.       , -0.046659 ,  0.81652  ],\n",
       "       [ 1.       , -0.17339  ,  0.69956  ],\n",
       "       [ 1.       , -0.47869  ,  0.63377  ],\n",
       "       [ 1.       , -0.60541  ,  0.59722  ],\n",
       "       [ 1.       , -0.62846  ,  0.33406  ],\n",
       "       [ 1.       , -0.59389  ,  0.005117 ],\n",
       "       [ 1.       , -0.42108  , -0.27266  ],\n",
       "       [ 1.       , -0.11578  , -0.39693  ],\n",
       "       [ 1.       ,  0.20104  , -0.60161  ],\n",
       "       [ 1.       ,  0.46601  , -0.53582  ],\n",
       "       [ 1.       ,  0.67339  , -0.53582  ],\n",
       "       [ 1.       , -0.13882  ,  0.54605  ],\n",
       "       [ 1.       , -0.29435  ,  0.77997  ],\n",
       "       [ 1.       , -0.26555  ,  0.96272  ],\n",
       "       [ 1.       , -0.16187  ,  0.8019   ],\n",
       "       [ 1.       , -0.17339  ,  0.64839  ],\n",
       "       [ 1.       , -0.28283  ,  0.47295  ],\n",
       "       [ 1.       , -0.36348  ,  0.31213  ],\n",
       "       [ 1.       , -0.30012  ,  0.027047 ],\n",
       "       [ 1.       , -0.23675  , -0.21418  ],\n",
       "       [ 1.       , -0.06394  , -0.18494  ],\n",
       "       [ 1.       ,  0.062788 , -0.16301  ],\n",
       "       [ 1.       ,  0.22984  , -0.41155  ],\n",
       "       [ 1.       ,  0.2932   , -0.2288   ],\n",
       "       [ 1.       ,  0.48329  , -0.18494  ],\n",
       "       [ 1.       ,  0.64459  , -0.14108  ],\n",
       "       [ 1.       ,  0.46025  ,  0.012427 ],\n",
       "       [ 1.       ,  0.6273   ,  0.15863  ],\n",
       "       [ 1.       ,  0.57546  ,  0.26827  ],\n",
       "       [ 1.       ,  0.72523  ,  0.44371  ],\n",
       "       [ 1.       ,  0.22408  ,  0.52412  ],\n",
       "       [ 1.       ,  0.44297  ,  0.67032  ],\n",
       "       [ 1.       ,  0.322    ,  0.69225  ],\n",
       "       [ 1.       ,  0.13767  ,  0.57529  ],\n",
       "       [ 1.       , -0.0063364,  0.39985  ],\n",
       "       [ 1.       , -0.092742 ,  0.55336  ],\n",
       "       [ 1.       , -0.20795  ,  0.35599  ],\n",
       "       [ 1.       , -0.20795  ,  0.17325  ],\n",
       "       [ 1.       , -0.43836  ,  0.21711  ],\n",
       "       [ 1.       , -0.21947  , -0.016813 ],\n",
       "       [ 1.       , -0.13882  , -0.27266  ],\n",
       "       [ 1.       ,  0.18376  ,  0.93348  ],\n",
       "       [ 1.       ,  0.22408  ,  0.77997  ],\n",
       "       [ 1.       ,  0.29896  ,  0.61915  ],\n",
       "       [ 1.       ,  0.50634  ,  0.75804  ],\n",
       "       [ 1.       ,  0.61578  ,  0.7288   ],\n",
       "       [ 1.       ,  0.60426  ,  0.59722  ],\n",
       "       [ 1.       ,  0.76555  ,  0.50219  ],\n",
       "       [ 1.       ,  0.92684  ,  0.3633   ],\n",
       "       [ 1.       ,  0.82316  ,  0.27558  ],\n",
       "       [ 1.       ,  0.96141  ,  0.085526 ],\n",
       "       [ 1.       ,  0.93836  ,  0.012427 ],\n",
       "       [ 1.       ,  0.86348  , -0.082602 ],\n",
       "       [ 1.       ,  0.89804  , -0.20687  ],\n",
       "       [ 1.       ,  0.85196  , -0.36769  ],\n",
       "       [ 1.       ,  0.82892  , -0.5212   ],\n",
       "       [ 1.       ,  0.79435  , -0.55775  ],\n",
       "       [ 1.       ,  0.59274  , -0.7405   ],\n",
       "       [ 1.       ,  0.51786  , -0.5943   ],\n",
       "       [ 1.       ,  0.46601  , -0.41886  ],\n",
       "       [ 1.       ,  0.35081  , -0.57968  ],\n",
       "       [ 1.       ,  0.28744  , -0.76974  ],\n",
       "       [ 1.       ,  0.085829 , -0.75512  ],\n",
       "       [ 1.       ,  0.14919  , -0.57968  ],\n",
       "       [ 1.       , -0.13306  , -0.4481   ],\n",
       "       [ 1.       , -0.40956  , -0.41155  ],\n",
       "       [ 1.       , -0.39228  , -0.25804  ],\n",
       "       [ 1.       , -0.74366  , -0.25804  ],\n",
       "       [ 1.       , -0.69758  ,  0.041667 ],\n",
       "       [ 1.       , -0.75518  ,  0.2902   ],\n",
       "       [ 1.       , -0.69758  ,  0.68494  ],\n",
       "       [ 1.       , -0.4038   ,  0.70687  ],\n",
       "       [ 1.       , -0.38076  ,  0.91886  ],\n",
       "       [ 1.       , -0.50749  ,  0.90424  ],\n",
       "       [ 1.       , -0.54781  ,  0.70687  ],\n",
       "       [ 1.       ,  0.10311  ,  0.77997  ],\n",
       "       [ 1.       ,  0.057028 ,  0.91886  ],\n",
       "       [ 1.       , -0.10426  ,  0.99196  ],\n",
       "       [ 1.       , -0.081221 ,  1.1089   ],\n",
       "       [ 1.       ,  0.28744  ,  1.087    ],\n",
       "       [ 1.       ,  0.39689  ,  0.82383  ],\n",
       "       [ 1.       ,  0.63882  ,  0.88962  ],\n",
       "       [ 1.       ,  0.82316  ,  0.66301  ],\n",
       "       [ 1.       ,  0.67339  ,  0.64108  ],\n",
       "       [ 1.       ,  1.0709   ,  0.10015  ],\n",
       "       [ 1.       , -0.046659 , -0.57968  ],\n",
       "       [ 1.       , -0.23675  , -0.63816  ],\n",
       "       [ 1.       , -0.15035  , -0.36769  ],\n",
       "       [ 1.       , -0.49021  , -0.3019   ],\n",
       "       [ 1.       , -0.46717  , -0.13377  ],\n",
       "       [ 1.       , -0.28859  , -0.060673 ],\n",
       "       [ 1.       , -0.61118  , -0.067982 ],\n",
       "       [ 1.       , -0.66302  , -0.21418  ],\n",
       "       [ 1.       , -0.59965  , -0.41886  ],\n",
       "       [ 1.       , -0.72638  , -0.082602 ],\n",
       "       [ 1.       , -0.83007  ,  0.31213  ],\n",
       "       [ 1.       , -0.72062  ,  0.53874  ],\n",
       "       [ 1.       , -0.59389  ,  0.49488  ],\n",
       "       [ 1.       , -0.48445  ,  0.99927  ],\n",
       "       [ 1.       , -0.0063364,  0.99927  ],\n",
       "       [ 1.       ,  0.63265  , -0.030612 ]])"
      ]
     },
     "execution_count": 21,
     "metadata": {},
     "output_type": "execute_result"
    }
   ],
   "source": [
    "X2"
   ]
  },
  {
   "cell_type": "code",
   "execution_count": 22,
   "metadata": {},
   "outputs": [
    {
     "data": {
      "text/plain": [
       "array([[1.],\n",
       "       [1.],\n",
       "       [1.],\n",
       "       [1.],\n",
       "       [1.],\n",
       "       [1.],\n",
       "       [1.],\n",
       "       [1.],\n",
       "       [1.],\n",
       "       [1.],\n",
       "       [1.],\n",
       "       [1.],\n",
       "       [1.],\n",
       "       [1.],\n",
       "       [1.],\n",
       "       [1.],\n",
       "       [1.],\n",
       "       [1.],\n",
       "       [1.],\n",
       "       [1.],\n",
       "       [1.],\n",
       "       [1.],\n",
       "       [1.],\n",
       "       [1.],\n",
       "       [1.],\n",
       "       [1.],\n",
       "       [1.],\n",
       "       [1.],\n",
       "       [1.],\n",
       "       [1.],\n",
       "       [1.],\n",
       "       [1.],\n",
       "       [1.],\n",
       "       [1.],\n",
       "       [1.],\n",
       "       [1.],\n",
       "       [1.],\n",
       "       [1.],\n",
       "       [1.],\n",
       "       [1.],\n",
       "       [1.],\n",
       "       [1.],\n",
       "       [1.],\n",
       "       [1.],\n",
       "       [1.],\n",
       "       [1.],\n",
       "       [1.],\n",
       "       [1.],\n",
       "       [1.],\n",
       "       [1.],\n",
       "       [1.],\n",
       "       [1.],\n",
       "       [1.],\n",
       "       [1.],\n",
       "       [1.],\n",
       "       [1.],\n",
       "       [1.],\n",
       "       [1.],\n",
       "       [0.],\n",
       "       [0.],\n",
       "       [0.],\n",
       "       [0.],\n",
       "       [0.],\n",
       "       [0.],\n",
       "       [0.],\n",
       "       [0.],\n",
       "       [0.],\n",
       "       [0.],\n",
       "       [0.],\n",
       "       [0.],\n",
       "       [0.],\n",
       "       [0.],\n",
       "       [0.],\n",
       "       [0.],\n",
       "       [0.],\n",
       "       [0.],\n",
       "       [0.],\n",
       "       [0.],\n",
       "       [0.],\n",
       "       [0.],\n",
       "       [0.],\n",
       "       [0.],\n",
       "       [0.],\n",
       "       [0.],\n",
       "       [0.],\n",
       "       [0.],\n",
       "       [0.],\n",
       "       [0.],\n",
       "       [0.],\n",
       "       [0.],\n",
       "       [0.],\n",
       "       [0.],\n",
       "       [0.],\n",
       "       [0.],\n",
       "       [0.],\n",
       "       [0.],\n",
       "       [0.],\n",
       "       [0.],\n",
       "       [0.],\n",
       "       [0.],\n",
       "       [0.],\n",
       "       [0.],\n",
       "       [0.],\n",
       "       [0.],\n",
       "       [0.],\n",
       "       [0.],\n",
       "       [0.],\n",
       "       [0.],\n",
       "       [0.],\n",
       "       [0.],\n",
       "       [0.],\n",
       "       [0.],\n",
       "       [0.],\n",
       "       [0.],\n",
       "       [0.],\n",
       "       [0.],\n",
       "       [0.],\n",
       "       [0.]])"
      ]
     },
     "execution_count": 22,
     "metadata": {},
     "output_type": "execute_result"
    }
   ],
   "source": [
    "y2"
   ]
  },
  {
   "cell_type": "markdown",
   "metadata": {},
   "source": [
    "Second verse, same as the first! We can use our plot function too."
   ]
  },
  {
   "cell_type": "code",
   "execution_count": 23,
   "metadata": {},
   "outputs": [
    {
     "data": {
      "image/png": "[encoded data removed]",
      "text/plain": [
       "<Figure size 720x432 with 1 Axes>"
      ]
     },
     "metadata": {
      "needs_background": "light"
     },
     "output_type": "display_data"
    }
   ],
   "source": [
    "plotData(X2, y2, 'Microchip Test 1', 'Microchip Test 2', 'Accepted', 'Rejected')"
   ]
  },
  {
   "cell_type": "markdown",
   "metadata": {},
   "source": [
    "Ohhhh man... That's a lot more complicated... I don't think a line is gonna cut it this time, dear reader. It's time to do some feature mapping! Feature mapping is when we try to fit our data using higher polynomial functions, explicitly:\n",
    "\n",
    "\n",
    "#### Feature mapping\n",
    "$$ X = x_0 , x_1 , x_1^2 , x_0x_1 , x_0x_1^2 , x_0x_1^3 , ... , x_0x_1x_2 , ... , x_0x_1x_2^2 , ... , ... x_{n-1}^{k-1}x_{n}^{k}$$\n",
    "\n",
    "where the comma represent column separations, n is the number of features we want and k is exponent degree we want to raise a given x to.\n",
    "We basically just continue multiplying the x's with each other and raising them to high powers.\n",
    "\n",
    "We can use our own code to do this which takes the first two columns from our X matrix, multiplies them together and raises them all two whatever degree we specify, returning a much bigger X matrix with new x values."
   ]
  },
  {
   "cell_type": "code",
   "execution_count": 24,
   "metadata": {},
   "outputs": [],
   "source": [
    "def mapFeature(x1col, x2col, degree):\n",
    "    \"\"\"\n",
    "    Adapted from https://github.com/kaleko/CourseraML/blob/master/ex2/ex2.ipynb, who by his own admission adapted\n",
    "    it from someone else. I don't know the original source.\n",
    "    Function that takes in a column of n- x1's, a column of n- x2s, and builds\n",
    "    a n- x 28-dim matrix of featuers as described in the homework assignment\n",
    "    \"\"\"\n",
    "    out = np.ones((x1col.shape[0], 1))\n",
    "\n",
    "    for i in np.arange(1, degree + 1):\n",
    "        for j in np.arange(0, i + 1):\n",
    "            term1 = x1col ** (i - j)\n",
    "            term2 = x2col ** (j)\n",
    "            term  = (term1 * term2).reshape(term1.shape[0], 1) \n",
    "            out   = np.hstack((out, term))\n",
    "    return out"
   ]
  },
  {
   "cell_type": "code",
   "execution_count": 25,
   "metadata": {},
   "outputs": [
    {
     "data": {
      "text/plain": [
       "(array([[ 1.00000000e+00,  5.12670000e-02,  6.99560000e-01, ...,\n",
       "          6.29470940e-04,  8.58939846e-03,  1.17205992e-01],\n",
       "        [ 1.00000000e+00, -9.27420000e-02,  6.84940000e-01, ...,\n",
       "          1.89305413e-03, -1.39810280e-02,  1.03255971e-01],\n",
       "        [ 1.00000000e+00, -2.13710000e-01,  6.92250000e-01, ...,\n",
       "          1.04882142e-02, -3.39734512e-02,  1.10046893e-01],\n",
       "        ...,\n",
       "        [ 1.00000000e+00, -4.84450000e-01,  9.99270000e-01, ...,\n",
       "          2.34007252e-01, -4.82684337e-01,  9.95627986e-01],\n",
       "        [ 1.00000000e+00, -6.33640000e-03,  9.99270000e-01, ...,\n",
       "          4.00328554e-05, -6.31330588e-03,  9.95627986e-01],\n",
       "        [ 1.00000000e+00,  6.32650000e-01, -3.06120000e-02, ...,\n",
       "          3.51474517e-07, -1.70067777e-08,  8.22905998e-10]]), (118, 28))"
      ]
     },
     "execution_count": 25,
     "metadata": {},
     "output_type": "execute_result"
    }
   ],
   "source": [
    "mapped_X2 = mapFeature(X2[:,1], X2[:,2], 6)\n",
    "mapped_X2, mapped_X2.shape"
   ]
  },
  {
   "cell_type": "markdown",
   "metadata": {},
   "source": [
    "Scikit-learn is set up to this for us too! Please keep in mind that scikit-learn's function inserts a column with 'ones' in the design matrix for the bias or intercept term. For your reference, dear reader:"
   ]
  },
  {
   "cell_type": "code",
   "execution_count": 26,
   "metadata": {},
   "outputs": [
    {
     "data": {
      "text/plain": [
       "(array([[ 1.00000000e+00,  5.12670000e-02,  6.99560000e-01, ...,\n",
       "          6.29470940e-04,  8.58939846e-03,  1.17205992e-01],\n",
       "        [ 1.00000000e+00, -9.27420000e-02,  6.84940000e-01, ...,\n",
       "          1.89305413e-03, -1.39810280e-02,  1.03255971e-01],\n",
       "        [ 1.00000000e+00, -2.13710000e-01,  6.92250000e-01, ...,\n",
       "          1.04882142e-02, -3.39734512e-02,  1.10046893e-01],\n",
       "        ...,\n",
       "        [ 1.00000000e+00, -4.84450000e-01,  9.99270000e-01, ...,\n",
       "          2.34007252e-01, -4.82684337e-01,  9.95627986e-01],\n",
       "        [ 1.00000000e+00, -6.33640000e-03,  9.99270000e-01, ...,\n",
       "          4.00328554e-05, -6.31330588e-03,  9.95627986e-01],\n",
       "        [ 1.00000000e+00,  6.32650000e-01, -3.06120000e-02, ...,\n",
       "          3.51474517e-07, -1.70067777e-08,  8.22905998e-10]]), (118, 28))"
      ]
     },
     "execution_count": 26,
     "metadata": {},
     "output_type": "execute_result"
    }
   ],
   "source": [
    "from sklearn.preprocessing import PolynomialFeatures\n",
    "poly = PolynomialFeatures(6)\n",
    "poly_X2 = poly.fit_transform(X2[:, 1:3])\n",
    "poly_X2, poly_X2.shape"
   ]
  },
  {
   "cell_type": "markdown",
   "metadata": {},
   "source": [
    "Now the time has come for us to regularize our model! Regularization is a trick that discourages overfitting. What's that? It's when the model hasn't seen enough data or is too complicated or both, and so the model performs well on data it has seen before, but fails to generalize to new examples. We also call overfitting the problem of high variance. The opposite of overfitting is underfitting, which is when model performs badly on examples its seen before and novel examples as well. Underfitting is also called the problem of high bias. We can regularize our model by redefining our cost function as follows:\n",
    "\n",
    "#### Regularized Cost Function\n",
    "#### $$ J(\\theta) = \\frac{1}{m}\\sum_{i=1}^{m}\\big[-y^{(i)}\\, log\\,( h_\\theta\\,(x^{(i)}))-(1-y^{(i)})\\,log\\,(1-h_\\theta(x^{(i)}))\\big] + \\frac{\\lambda}{2m}\\sum_{j=1}^{n}\\theta_{j}^{2}$$\n",
    "#### Vectorized Cost Function\n",
    "#### $$ J(\\theta) = \\frac{1}{m}\\big((\\,log\\,(g(X\\theta))^Ty+(\\,log\\,(1-g(X\\theta))^T(1-y)\\big) + \\frac{\\lambda}{2m}\\sum_{j=1}^{n}\\theta_{j}^{2}$$\n",
    "\n",
    "Lambda($\\lambda$) above is called the regularization parameter or the weight decay parameter. What it does is encourage theta to remain as small as possible while still trying to fit the data. At the end of the day, lambda is just some constant value, so by increasing or decreasing the value of lambda, we can control the tradeoff between fitting the data and keeping theta small; a bigger value of lambda means smaller values of theta. By convention, we do not regularize the intercept or bias term ($ \\theta_{0}$), which is why the above summations start at 1 and not 0.\n",
    "\n",
    "Let's set up a new cost function to incorporate lambda, the regularization parameter. We'll set the default value to be 0 and then see how bigger values of lambda affect our model's performance. Remember: vectorize, vectorize, vectorize!\n",
    "\n",
    "NOTE: It's important to pass the function theta first because it will crash the code later when using Scipy's advanced optimization. I wasted an hour hunting down this stupid, stupid bug."
   ]
  },
  {
   "cell_type": "code",
   "execution_count": 27,
   "metadata": {},
   "outputs": [],
   "source": [
    "def regComputeCost(theta, X, y, reg_param = 0):\n",
    "    m = y.size\n",
    "    h = sigmoid(np.dot(X, theta))\n",
    "    \n",
    "    J = -1.0 * (1 / m) * (np.log(h).T.dot(y) + np.log(1 - h).T.dot(1 - y))+\\\n",
    "    (reg_param/(2 * m)) * np.sum(np.square(theta[1:]))\n",
    "    \n",
    "    return J"
   ]
  },
  {
   "cell_type": "markdown",
   "metadata": {},
   "source": [
    "Since our cost function's definition has changed, then so too has the definition of its partial derivatives:\n",
    "\n",
    "\n",
    "#### Regularized Partial Derivative of $J(\\theta) $ with respect to $ \\theta_{j} $\n",
    "\n",
    "#### $$ \\frac{\\partial J(\\theta)}{\\partial\\theta_{j}} = \\frac{1}{m}\\sum_{i=1}^{m} ( h_\\theta (x^{(i)})-y^{(i)})x^{(i)}_{j} + \\frac{\\lambda}{m}\\theta_{j}$$ \n",
    "#### Vectorized Partial Derivative of $J(\\theta) $ with respect to $ \\theta_{j} $\n",
    "#### $$ \\frac{\\partial J(\\theta)}{\\partial\\theta_{j}} = \\frac{1}{m} X^T(g(X\\theta)-y) + \\frac{\\lambda}{m}\\theta_{j}$$\n",
    "\n",
    "Remember: We do not regularize $ \\theta_{0} $.\n",
    "\n",
    "NOTE: It's important to pass the function theta first because it will crash the code later when using Scipy's advanced optimization. I wasted an hour hunting down this stupid, stupid bug."
   ]
  },
  {
   "cell_type": "code",
   "execution_count": 28,
   "metadata": {},
   "outputs": [],
   "source": [
    "def regGrad(theta, X, y, reg_param = 0):\n",
    "    m = y.size\n",
    "    h = sigmoid(np.dot(X, theta.reshape(-1,1)))\n",
    "      \n",
    "    gradient = (1.0 / m) * X.T.dot(h - y) + (reg_param / m) * np.r_[[[0]], theta[1:].reshape(-1, 1)]\n",
    "        \n",
    "    return gradient.flatten()"
   ]
  },
  {
   "cell_type": "markdown",
   "metadata": {},
   "source": [
    "Let's see what these functions can do! We need to initialize our thetas at zero again, but this time the dimensionality needs to match our feature mapped X."
   ]
  },
  {
   "cell_type": "code",
   "execution_count": 29,
   "metadata": {},
   "outputs": [
    {
     "data": {
      "text/plain": [
       "(array([0., 0., 0., 0., 0., 0., 0., 0., 0., 0., 0., 0., 0., 0., 0., 0., 0.,\n",
       "        0., 0., 0., 0., 0., 0., 0., 0., 0., 0., 0.]), (28,))"
      ]
     },
     "execution_count": 29,
     "metadata": {},
     "output_type": "execute_result"
    }
   ],
   "source": [
    "zero_theta2 = np.zeros(poly_X2.shape[1])\n",
    "zero_theta2,  zero_theta2.shape"
   ]
  },
  {
   "cell_type": "code",
   "execution_count": 30,
   "metadata": {},
   "outputs": [
    {
     "data": {
      "text/plain": [
       "0.6931471805599453"
      ]
     },
     "execution_count": 30,
     "metadata": {},
     "output_type": "execute_result"
    }
   ],
   "source": [
    "#Default value of reg_param (0) is overwritten by passing the function 1\n",
    "regComputeCost(zero_theta2, poly_X2, y2, 1)[0]"
   ]
  },
  {
   "cell_type": "code",
   "execution_count": 31,
   "metadata": {},
   "outputs": [
    {
     "data": {
      "text/plain": [
       "array([8.47457627e-03, 1.87880932e-02, 7.77711864e-05, 5.03446395e-02,\n",
       "       1.15013308e-02, 3.76648474e-02, 1.83559872e-02, 7.32393391e-03,\n",
       "       8.19244468e-03, 2.34764889e-02, 3.93486234e-02, 2.23923907e-03,\n",
       "       1.28600503e-02, 3.09593720e-03, 3.93028171e-02, 1.99707467e-02,\n",
       "       4.32983232e-03, 3.38643902e-03, 5.83822078e-03, 4.47629067e-03,\n",
       "       3.10079849e-02, 3.10312442e-02, 1.09740238e-03, 6.31570797e-03,\n",
       "       4.08503006e-04, 7.26504316e-03, 1.37646175e-03, 3.87936363e-02])"
      ]
     },
     "execution_count": 31,
     "metadata": {},
     "output_type": "execute_result"
    }
   ],
   "source": [
    "regGrad(zero_theta2, poly_X2, y2, 1)"
   ]
  },
  {
   "cell_type": "markdown",
   "metadata": {},
   "source": [
    "Well, nothing crashed, so that's encouraging. But, as you can see, our cost is still too damn high! We can make use of Scipy's advanced optimization again. This time, because we're going to do this repeatedly, let's set up a function so we don't have to keep repeating code. We'll just pass this new function the same variables we've been using and we'll tell the function to give use back the solution vector with the minimized values of theta.\n",
    "\n",
    "NOTE: It's important to pass the function theta first because it will crash the code later when using Scipy's advanced optimization. I wasted an hour hunting down this stupid, stupid bug."
   ]
  },
  {
   "cell_type": "code",
   "execution_count": 32,
   "metadata": {},
   "outputs": [],
   "source": [
    "def optimalTheta(theta, X, y, reg_param = 0):\n",
    "    res = minimize(fun = regComputeCost, x0 = theta, args=(X, y, reg_param), method='TNC', jac = regGrad)\n",
    "    \n",
    "    return res.x"
   ]
  },
  {
   "cell_type": "markdown",
   "metadata": {},
   "source": [
    "Here goes nothing!"
   ]
  },
  {
   "cell_type": "code",
   "execution_count": 33,
   "metadata": {},
   "outputs": [
    {
     "data": {
      "text/plain": [
       "(array([ 1.27271025,  0.62529964,  1.18111685, -2.01987399, -0.91743188,\n",
       "        -1.43166927,  0.12393228, -0.36553118, -0.35725404, -0.17516292,\n",
       "        -1.45817008, -0.05098418, -0.6155856 , -0.27469166, -1.192713  ,\n",
       "        -0.24217841, -0.20603304, -0.04466177, -0.27778947, -0.29539514,\n",
       "        -0.45645982, -1.04319153,  0.02779373, -0.29244863,  0.01555759,\n",
       "        -0.32742403, -0.14389149, -0.92467488]), (28,))"
      ]
     },
     "execution_count": 33,
     "metadata": {},
     "output_type": "execute_result"
    }
   ],
   "source": [
    "new_theta2 = optimalTheta(zero_theta2, poly_X2, y2, 1)\n",
    "new_theta2, new_theta2.shape"
   ]
  },
  {
   "cell_type": "markdown",
   "metadata": {},
   "source": [
    "I guess it worked? Let's take a look-see. We can make predictions using our handy-dandy function from before and then calculate the accuracy."
   ]
  },
  {
   "cell_type": "code",
   "execution_count": 34,
   "metadata": {},
   "outputs": [
    {
     "name": "stdout",
     "output_type": "stream",
     "text": [
      "accuracy = 83.05084745762711%\n"
     ]
    }
   ],
   "source": [
    "correct = [1 if a == b else 0 for (a, b) in zip(prediction(new_theta2, poly_X2), y2)]\n",
    "accuracy = sum(map(int, correct)) / len(correct)\n",
    "print('accuracy = {0}%'.format(accuracy * 100))"
   ]
  },
  {
   "cell_type": "markdown",
   "metadata": {},
   "source": [
    "Ahhh, so we're accurate 83% of time when we set lambda to be 1 on the current data set.\n",
    "\n",
    "We can now draw a non-linear decision boundary using this far more complicated data set. I'd also like to demonstrate for you, dear reader, the power of lambda and the trade off between overfitting and underfitting. Because our decision boundary is now non-linear, we need to write a much more complicated plotting function."
   ]
  },
  {
   "cell_type": "code",
   "execution_count": 35,
   "metadata": {},
   "outputs": [],
   "source": [
    "def plotBoundary(theta, X, y, reg_param = 0):\n",
    "    \"\"\"\n",
    "    This cell of code was adapted from https://github.com/kaleko/CourseraML/blob/master/ex2/ex2.ipynb\n",
    "    Function to plot the decision boundary for arbitrary theta, X, y, lambda value\n",
    "    Inside of this function is feature mapping, and the minimization routine.\n",
    "    It works by making a grid of x1 (\"xs\") and x2 (\"ys\") points,\n",
    "    And for each, computing whether the hypothesis classifies that point as\n",
    "    True or False. Then, a contour is drawn with a built-in pyplot function.\n",
    "    \"\"\"\n",
    "    theta = optimalTheta(theta, X, y, reg_param)\n",
    "    xs = np.linspace(-1, 1.5, 50)\n",
    "    ys = np.linspace(-1, 1.5, 50)\n",
    "    zs = np.zeros((len(xs), len(ys)))\n",
    "    for i in np.arange(len(xs)):\n",
    "        for j in np.arange(len(ys)):\n",
    "            features_i_j = mapFeature(np.array([xs[i]]), np.array([ys[j]]), 6)\n",
    "            zs[i][j] = np.dot(theta, features_i_j.T)\n",
    "    zs = zs.transpose()\n",
    "\n",
    "    u, v = np.meshgrid(xs, ys)\n",
    "    plt.contour(xs, ys, zs, [0])\n",
    "    correct = [1 if a == b else 0 for (a, b) in zip(prediction(theta, X), y)]\n",
    "    accuracy = (sum(map(int, correct)) / len(correct)) * 100\n",
    "    \n",
    "    plt.title(\"Decision Boundary: Lambda = {} with accuracy of {}% \".format(reg_param, np.round(accuracy, decimals = 2)))"
   ]
  },
  {
   "cell_type": "markdown",
   "metadata": {},
   "source": [
    "Let's see what happens when we use lambda at its default value of 0. In order words, logistic regression with no regularization."
   ]
  },
  {
   "cell_type": "code",
   "execution_count": 36,
   "metadata": {},
   "outputs": [
    {
     "data": {
      "image/png": "[encoded data removed]",
      "text/plain": [
       "<Figure size 720x432 with 1 Axes>"
      ]
     },
     "metadata": {
      "needs_background": "light"
     },
     "output_type": "display_data"
    }
   ],
   "source": [
    "plotData(X2, y2, 'Microchip Test 1', 'Microchip Test 2', '1', '0')\n",
    "plotBoundary(zero_theta2, poly_X2, y2)"
   ]
  },
  {
   "cell_type": "markdown",
   "metadata": {},
   "source": [
    "Our accuracy has jumped up quite a bit, but we've also drawn a really funky-looking boundary. Such highly variable boundaries are a good indication of overfitting, meaning it's unlikely our model will generalize well to novel data examples.\n",
    "\n",
    "What if we set lambda = 1?"
   ]
  },
  {
   "cell_type": "code",
   "execution_count": 37,
   "metadata": {},
   "outputs": [
    {
     "data": {
      "image/png": "[encoded data removed]",
      "text/plain": [
       "<Figure size 720x432 with 1 Axes>"
      ]
     },
     "metadata": {
      "needs_background": "light"
     },
     "output_type": "display_data"
    }
   ],
   "source": [
    "plotData(X2, y2, 'Microchip Test 1', 'Microchip Test 2', '1', '0')\n",
    "plotBoundary(zero_theta2, poly_X2, y2, 1)"
   ]
  },
  {
   "cell_type": "markdown",
   "metadata": {},
   "source": [
    "Well, our accuracy took a hit, but this is a much better-looking and smoother decision boundary. Andrew Ng himself says this kind of decision boundary is \"just right, Goldilocks.\"... I may have added the Goldilocks part.\n",
    "\n",
    "How about lambda = 10?"
   ]
  },
  {
   "cell_type": "code",
   "execution_count": 38,
   "metadata": {},
   "outputs": [
    {
     "data": {
      "image/png": "[encoded data removed]",
      "text/plain": [
       "<Figure size 720x432 with 1 Axes>"
      ]
     },
     "metadata": {
      "needs_background": "light"
     },
     "output_type": "display_data"
    }
   ],
   "source": [
    "plotData(X2, y2, 'Microchip Test 1', 'Microchip Test 2', '1', '0')\n",
    "plotBoundary(zero_theta2, poly_X2, y2, 10)"
   ]
  },
  {
   "cell_type": "markdown",
   "metadata": {},
   "source": [
    "Now we're underfitting or our model has high bias, performing badly even on the training data let alone some new data.\n",
    "\n",
    "lambda = 100?"
   ]
  },
  {
   "cell_type": "code",
   "execution_count": 39,
   "metadata": {},
   "outputs": [
    {
     "data": {
      "image/png": "[encoded data removed]",
      "text/plain": [
       "<Figure size 720x432 with 1 Axes>"
      ]
     },
     "metadata": {
      "needs_background": "light"
     },
     "output_type": "display_data"
    }
   ],
   "source": [
    "plotData(X2, y2, 'Microchip Test 1', 'Microchip Test 2', '1', '0')\n",
    "plotBoundary(zero_theta2, poly_X2, y2, 100)"
   ]
  },
  {
   "cell_type": "markdown",
   "metadata": {},
   "source": [
    "Terrible!\n",
    "Just for giggles, 176 is the highest you can set lambda and still get a detectable contour. See that purple dot below? That's our decision boundary with lambda = 176, and we're performing only slightly better than chance."
   ]
  },
  {
   "cell_type": "code",
   "execution_count": 40,
   "metadata": {},
   "outputs": [
    {
     "data": {
      "image/png": "[encoded data removed]",
      "text/plain": [
       "<Figure size 720x432 with 1 Axes>"
      ]
     },
     "metadata": {
      "needs_background": "light"
     },
     "output_type": "display_data"
    }
   ],
   "source": [
    "plotData(X2, y2, 'Microchip Test 1', 'Microchip Test 2', '1', '0')\n",
    "plotBoundary(zero_theta2, poly_X2, y2, 176)"
   ]
  },
  {
   "cell_type": "markdown",
   "metadata": {},
   "source": [
    "With exercise 2 done, let's move on to the logistic regression portion of exercise 3, where we will perform the computer vision favorite of hand-written digit classification. This is a task logistic regression is quite good at. The format of the datafile is now a .mat file from Matlab's native format, so we will need to get a hand from Scipy to load it up."
   ]
  },
  {
   "cell_type": "code",
   "execution_count": 41,
   "metadata": {},
   "outputs": [
    {
     "data": {
      "text/plain": [
       "{'__header__': b'MATLAB 5.0 MAT-file, Platform: GLNXA64, Created on: Sun Oct 16 13:09:09 2011',\n",
       " '__version__': '1.0',\n",
       " '__globals__': [],\n",
       " 'X': array([[0., 0., 0., ..., 0., 0., 0.],\n",
       "        [0., 0., 0., ..., 0., 0., 0.],\n",
       "        [0., 0., 0., ..., 0., 0., 0.],\n",
       "        ...,\n",
       "        [0., 0., 0., ..., 0., 0., 0.],\n",
       "        [0., 0., 0., ..., 0., 0., 0.],\n",
       "        [0., 0., 0., ..., 0., 0., 0.]]),\n",
       " 'y': array([[10],\n",
       "        [10],\n",
       "        [10],\n",
       "        ...,\n",
       "        [ 9],\n",
       "        [ 9],\n",
       "        [ 9]], dtype=uint8)}"
      ]
     },
     "execution_count": 41,
     "metadata": {},
     "output_type": "execute_result"
    }
   ],
   "source": [
    "#This code assumes the datafiles are in the same directory as the code file\n",
    "from scipy.io import loadmat\n",
    "\n",
    "data3 = loadmat('ex3data1.mat')\n",
    "data3"
   ]
  },
  {
   "cell_type": "markdown",
   "metadata": {},
   "source": [
    "This loads in as a python dictionary, so it's pretty easy to set up our X matrix and y vector. Just need to insert the column of ones for the bias or intercept term."
   ]
  },
  {
   "cell_type": "code",
   "execution_count": 42,
   "metadata": {},
   "outputs": [
    {
     "name": "stdout",
     "output_type": "stream",
     "text": [
      "X: (5000, 401) (+ bias term)\n",
      "y: (5000, 1)\n"
     ]
    }
   ],
   "source": [
    "y3 = data3['y']\n",
    "X3 = np.c_[np.ones((data3['X'].shape[0], 1)), data3['X']]\n",
    "print('X:', X3.shape, '(+ bias term)')\n",
    "print('y:', y3.shape)"
   ]
  },
  {
   "cell_type": "markdown",
   "metadata": {},
   "source": [
    "So X is a 5000 by 401 matrix, meaning 5000 data examples or rows (the value 'm') and 401 columns; in machine learning columns are often called features. The 400 comes from the fact that pictures from our data are 20x20 pixels and the number in each cell is the grayscale value of the pixel in question. 1 comes from adding the bias or intercept term, which allows us to fit the data more accurately because we don't force our model to pass through the origin. y is a 5000 by 1 column vector will 5000 elements that correspond to whatever picture X's grayscale pixel values are supposed to represent.\n",
    "\n",
    "... What? A picture is worth a thousand words so let's take a look! Let's randomly select some rows from our X matrix and use matplotlib to translate the pixel values into pictures"
   ]
  },
  {
   "cell_type": "code",
   "execution_count": 43,
   "metadata": {},
   "outputs": [
    {
     "data": {
      "text/plain": [
       "<matplotlib.image.AxesImage at 0x2627e84ba90>"
      ]
     },
     "execution_count": 43,
     "metadata": {},
     "output_type": "execute_result"
    },
    {
     "data": {
      "image/png": "[encoded data removed]",
      "text/plain": [
       "<Figure size 1440x144 with 1 Axes>"
      ]
     },
     "metadata": {
      "needs_background": "light"
     },
     "output_type": "display_data"
    }
   ],
   "source": [
    "ran_samp = np.random.choice(X3.shape[0], 20)\n",
    "plt.figure(figsize = (20, 2))\n",
    "plt.imshow(X3[ran_samp, 1:].reshape(-1, 20).T, interpolation = 'nearest', aspect = 'auto')"
   ]
  },
  {
   "cell_type": "markdown",
   "metadata": {},
   "source": [
    "So then one element of y is just the text representation of one of the above hand-written digit images.\n",
    "\n",
    "You may have realized that in the above two exercises we were only doing binary classification, that is, y could only be 0 or 1. Now, however, y can take on 10 different values (0 - 9). All of our clever math is based on y being binary, so what can we do to overcome this? It's all called one-vs.-all classification! What we do is just look at one type of y at a time. If it's the y we're interested in at that time, then we say that all of those values are equal to 1, and if they're not, then they're 0. For example, using the hand-written digit classification problem, say at one point we're just looking for \"3\". Ok, so when we train we say, \"If y is equal to 3, then I'm going to set y equal to 1. If not, then y is equal to 0.\" If we're looking for 4, then we would say \"If y is equal to 4, then I'm going to set y equal to 1. If not, then y is equal to 0.\" And so on! So what we're doing is creating different logisitic regression classifiers where each one is really good at classifiying one of the values y can take on. At test time, we just choose whichever classifier yields the highest probability of y being equal to 1, that is, y is the value that classifier was trained to learn.\n",
    "\n",
    "Clever right?\n",
    "\n",
    "What is this means programmatically is setting up a function that takes in X, y, the number of labels we're interesting in (in this case 10 (0 - 9)), and a lambda value. Inside the function we'll intialize theta as a column vector of zeros with its dimensionality given by X's column count (401x1). Then we'll intialize a theta matrix full of zeros, where its dimensionality is given by (label number x X's column count) (10x401 in this case). This theta matrix will store all the optimized values of our 10 different classifiers. We'll get these optimized values by using our handy-dandy optimalTheta function that harnesses Scipy's minimization powers."
   ]
  },
  {
   "cell_type": "code",
   "execution_count": 44,
   "metadata": {},
   "outputs": [],
   "source": [
    "def oneVAll(X, y, lab_num, reg_param):\n",
    "    zero_theta = np.zeros((X.shape[1], 1)) #401x1\n",
    "    all_theta = np.zeros((lab_num, X.shape[1])) #10x401\n",
    "    \n",
    "    for i in np.arange(1, lab_num + 1):\n",
    "        # i-1 because python indexes from 0, but we starting counting up from 1\n",
    "        # y == i : y is the number we're looking for at this moment\n",
    "        all_theta[i-1,:] = optimalTheta(zero_theta, X, y == i, reg_param)\n",
    "              \n",
    "    \n",
    "    return all_theta        "
   ]
  },
  {
   "cell_type": "markdown",
   "metadata": {},
   "source": [
    "Let's take a look at our new theta--ascended from its status as a lowly vector to a glorious matrix."
   ]
  },
  {
   "cell_type": "code",
   "execution_count": 45,
   "metadata": {},
   "outputs": [
    {
     "data": {
      "text/plain": [
       "(array([[-3.07209150e+00,  0.00000000e+00,  0.00000000e+00, ...,\n",
       "          6.83994259e-03, -2.93583111e-10,  0.00000000e+00],\n",
       "        [-3.73221215e+00,  0.00000000e+00,  0.00000000e+00, ...,\n",
       "          2.33346949e-02, -2.55932029e-03,  0.00000000e+00],\n",
       "        [-5.71267163e+00,  0.00000000e+00,  0.00000000e+00, ...,\n",
       "         -6.27868869e-05, -3.61375962e-07,  0.00000000e+00],\n",
       "        ...,\n",
       "        [-9.12551429e+00,  0.00000000e+00,  0.00000000e+00, ...,\n",
       "         -6.16739281e-04,  6.96212587e-05,  0.00000000e+00],\n",
       "        [-5.62189442e+00,  0.00000000e+00,  0.00000000e+00, ...,\n",
       "         -1.12771539e-02,  8.58907140e-04,  0.00000000e+00],\n",
       "        [-8.06799574e+00,  0.00000000e+00,  0.00000000e+00, ...,\n",
       "         -3.54044724e-05,  9.56083120e-07,  0.00000000e+00]]), (10, 401))"
      ]
     },
     "execution_count": 45,
     "metadata": {},
     "output_type": "execute_result"
    }
   ],
   "source": [
    "# 10 different classes, lambda of 0.1\n",
    "new_theta3 = oneVAll(X3, y3, 10, 0.1)\n",
    "new_theta3, new_theta3.shape"
   ]
  },
  {
   "cell_type": "markdown",
   "metadata": {},
   "source": [
    "Now we can compute our hypothesis same as before, after transposing theta because it's a matrix now, to generate probabilties. However, now we'll generate 10 different probabilities for each element of y because we trained 10 different classifiers. We can use np.argmax to find the index of whichever classifier returned the highest probability for a given y. The classifier index will then be the number we're attempting to classify."
   ]
  },
  {
   "cell_type": "code",
   "execution_count": 46,
   "metadata": {},
   "outputs": [],
   "source": [
    "def predictAll(theta, X):\n",
    "    all_probs = sigmoid(np.dot(X, theta.T))\n",
    "    # add one because python indexes from 0\n",
    "    high_prob = np.argmax(all_probs, axis = 1) + 1\n",
    "    \n",
    "    return high_prob"
   ]
  },
  {
   "cell_type": "markdown",
   "metadata": {},
   "source": [
    "Moment of truth! Let's check out our accuracy."
   ]
  },
  {
   "cell_type": "code",
   "execution_count": 47,
   "metadata": {},
   "outputs": [
    {
     "name": "stdout",
     "output_type": "stream",
     "text": [
      "accuracy = 96.46000000000001 %\n"
     ]
    }
   ],
   "source": [
    "correct = [1 if a == b else 0 for (a, b) in zip(predictAll(new_theta3, X3), y3)]\n",
    "accuracy = (sum(map(int, correct)) / len(correct)) * 100\n",
    "print(\"accuracy = {} %\".format(accuracy))"
   ]
  },
  {
   "cell_type": "markdown",
   "metadata": {},
   "source": [
    "Oh snap! How do you like them apples, hand-written digits?!\n",
    "\n",
    "\n",
    "For your reference, dear reader, you don't to code up logistic regression from scratch every time you've got a digit to classify. Scikit-learn is set up to do a pretty legit job on its own.\n",
    "\n",
    "Note: Scikit-learn adds the intercept term automatically, so we exclude it when we pass their function the X matrix. Also, the function prefers y to be a row vector rather than a column vector, so we use .ravel() to make it happy.\n",
    "\n",
    "For more information on my parameter choices, please see: http://scikit-learn.org/stable/modules/generated/sklearn.linear_model.LogisticRegression.html"
   ]
  },
  {
   "cell_type": "markdown",
   "metadata": {},
   "source": [
    "#### Logistic Regression with Scikit-learn"
   ]
  },
  {
   "cell_type": "code",
   "execution_count": 48,
   "metadata": {},
   "outputs": [
    {
     "name": "stderr",
     "output_type": "stream",
     "text": [
      "C:\\Users\\Theochem\\Anaconda3\\lib\\site-packages\\sklearn\\linear_model\\logistic.py:469: FutureWarning: Default multi_class will be changed to 'auto' in 0.22. Specify the multi_class option to silence this warning.\n",
      "  \"this warning.\", FutureWarning)\n"
     ]
    },
    {
     "data": {
      "text/plain": [
       "LogisticRegression(C=1, class_weight=None, dual=False, fit_intercept=True,\n",
       "                   intercept_scaling=1, l1_ratio=None, max_iter=100,\n",
       "                   multi_class='warn', n_jobs=None, penalty='l2',\n",
       "                   random_state=None, solver='newton-cg', tol=0.0001, verbose=0,\n",
       "                   warm_start=False)"
      ]
     },
     "execution_count": 48,
     "metadata": {},
     "output_type": "execute_result"
    }
   ],
   "source": [
    "from sklearn.linear_model import LogisticRegression\n",
    "\n",
    "lr = LogisticRegression(C = 1, penalty='l2', solver='newton-cg')\n",
    "lr.fit(X3[:, 1:], y3.ravel())"
   ]
  },
  {
   "cell_type": "markdown",
   "metadata": {},
   "source": [
    "We can take the mean of the amount of times Scikit-learn guessed correctly, validated against our row vector y, and then multiply that by 100 to get a percentage. Yet another way to calculate accuracy."
   ]
  },
  {
   "cell_type": "code",
   "execution_count": 49,
   "metadata": {},
   "outputs": [
    {
     "name": "stdout",
     "output_type": "stream",
     "text": [
      "Scikit-learn's accuracy: 94.46%\n"
     ]
    }
   ],
   "source": [
    "print(\"Scikit-learn's accuracy: {}%\".format(np.mean(lr.predict(X3[:, 1:]) == y3.ravel())*100))"
   ]
  },
  {
   "cell_type": "markdown",
   "metadata": {},
   "source": [
    "Woooo! We did better than Scikit-learn! That's only because we used their default values for logistic regression. If you play around a bit, you can find a slightly more accurate fit to the data, though not by much!\n",
    "\n",
    "At any rate that concludes Andrew Ng's logistic regression problems from exercise 2 and 3. I hope this notebook was helpful to you, dear reader."
   ]
  }
 ],
 "metadata": {
  "kernelspec": {
   "display_name": "Python 3",
   "language": "python",
   "name": "python3"
  },
  "language_info": {
   "codemirror_mode": {
    "name": "ipython",
    "version": 3
   },
   "file_extension": ".py",
   "mimetype": "text/x-python",
   "name": "python",
   "nbconvert_exporter": "python",
   "pygments_lexer": "ipython3",
   "version": "3.6.7"
  }
 },
 "nbformat": 4,
 "nbformat_minor": 1
}
